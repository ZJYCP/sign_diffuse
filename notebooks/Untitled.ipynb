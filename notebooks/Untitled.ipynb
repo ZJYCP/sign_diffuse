{
 "cells": [
  {
   "cell_type": "markdown",
   "id": "37a9cf55-0124-479a-aaca-50ffddb95a99",
   "metadata": {},
   "source": [
    "<video controls src=\"sign_diffuse/logs/eval/runs/2022-11-03_15-57-46/train_14.mp4\" />"
   ]
  },
  {
   "cell_type": "code",
   "execution_count": null,
   "id": "7084e7e8-0eb0-460c-a246-186f91fcceef",
   "metadata": {},
   "outputs": [
    {
     "ename": "",
     "evalue": "",
     "output_type": "error",
     "traceback": [
      "\u001b[1;31mRunning cells with 'Python 3.8.13 ('motiondiffuse')' requires ipykernel package.\n",
      "\u001b[1;31mRun the following command to install 'ipykernel' into the Python environment. \n",
      "\u001b[1;31mCommand: 'conda install -n motiondiffuse ipykernel --update-deps --force-reinstall'"
     ]
    }
   ],
   "source": [
    "from IPython.display import Video,HTML\n",
    "Video(\"/root/sign_diffuse/logs/eval/runs/2022-11-03_15-57-46/train_14.mp4\",embed=True)"
   ]
  },
  {
   "cell_type": "code",
   "execution_count": 18,
   "id": "b0735219-063c-4147-bef6-2fa2841d21f8",
   "metadata": {},
   "outputs": [
    {
     "data": {
      "text/html": [
       "<video src=\"https://archive.org/download/Sita_Sings_the_Blues/Sita_Sings_the_Blues_small.mp4\" controls  >\n",
       "      Your browser does not support the <code>video</code> element.\n",
       "    </video>"
      ],
      "text/plain": [
       "<IPython.core.display.Video object>"
      ]
     },
     "execution_count": 18,
     "metadata": {},
     "output_type": "execute_result"
    }
   ],
   "source": [
    "Video('https://archive.org/download/Sita_Sings_the_Blues/Sita_Sings_the_Blues_small.mp4')\n"
   ]
  },
  {
   "cell_type": "code",
   "execution_count": 6,
   "id": "d61130be-2bdd-4a86-9273-c206b8fd7a0f",
   "metadata": {},
   "outputs": [
    {
     "name": "stdout",
     "output_type": "stream",
     "text": [
      "/root/sign_diffuse/notebooks\n"
     ]
    }
   ],
   "source": [
    "!pwd"
   ]
  }
 ],
 "metadata": {
  "kernelspec": {
   "display_name": "Python 3.8.13 ('motiondiffuse')",
   "language": "python",
   "name": "python3"
  },
  "language_info": {
   "codemirror_mode": {
    "name": "ipython",
    "version": 3
   },
   "file_extension": ".py",
   "mimetype": "text/x-python",
   "name": "python",
   "nbconvert_exporter": "python",
   "pygments_lexer": "ipython3",
   "version": "3.8.13"
  },
  "vscode": {
   "interpreter": {
    "hash": "5bb9d159f8d87ebb1bbf1ed906240d0b33cd304901b82e8ca223496759c4d83b"
   }
  }
 },
 "nbformat": 4,
 "nbformat_minor": 5
}
